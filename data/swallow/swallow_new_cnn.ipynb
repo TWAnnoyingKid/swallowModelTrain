{
 "cells": [
  {
   "cell_type": "code",
   "execution_count": 1,
   "metadata": {},
   "outputs": [
    {
     "name": "stderr",
     "output_type": "stream",
     "text": [
      "c:\\Users\\bymin\\anaconda3\\envs\\swallow\\lib\\site-packages\\tqdm\\auto.py:21: TqdmWarning: IProgress not found. Please update jupyter and ipywidgets. See https://ipywidgets.readthedocs.io/en/stable/user_install.html\n",
      "  from .autonotebook import tqdm as notebook_tqdm\n"
     ]
    }
   ],
   "source": [
    "# 導入必要的庫\n",
    "import os\n",
    "import numpy as np\n",
    "import librosa\n",
    "import noisereduce as nr\n",
    "import matplotlib.pyplot as plt\n",
    "import pandas as pd\n",
    "from sklearn.model_selection import train_test_split\n",
    "from sklearn.metrics import confusion_matrix, classification_report\n",
    "from sklearn.utils.class_weight import compute_class_weight\n",
    "from collections import Counter, defaultdict\n",
    "import tensorflow as tf\n",
    "from tensorflow.keras.models import Sequential\n",
    "from tensorflow.keras.layers import Conv2D, MaxPooling2D, Dropout, Flatten, Dense, BatchNormalization\n",
    "from tensorflow.keras.utils import to_categorical\n",
    "import seaborn as sns\n",
    "%matplotlib inline\n"
   ]
  },
  {
   "cell_type": "code",
   "execution_count": 2,
   "metadata": {},
   "outputs": [
    {
     "name": "stdout",
     "output_type": "stream",
     "text": [
      "總音頻文件數量: 137\n",
      "標籤分佈: Counter({0: 70, 1: 67}) (非吞嚥: 0, 吞嚥: 1)\n"
     ]
    }
   ],
   "source": [
    "# 定義資料目錄\n",
    "data_dir = 'data/'\n",
    "\n",
    "# 定義類別和對應的標籤\n",
    "categories = {'non': 0, 'swallow': 1}\n",
    "\n",
    "# 列出所有音頻文件及其標籤\n",
    "audio_files = []\n",
    "labels = []\n",
    "\n",
    "for category, label in categories.items():\n",
    "    category_dir = os.path.join(data_dir, category)\n",
    "    for file in os.listdir(category_dir):\n",
    "        if file.endswith('.wav'):\n",
    "            file_path = os.path.join(category_dir, file)\n",
    "            audio_files.append(file_path)\n",
    "            labels.append(label)\n",
    "\n",
    "print(f\"總音頻文件數量: {len(audio_files)}\")\n",
    "print(f\"標籤分佈: {Counter(labels)} (非吞嚥: {categories['non']}, 吞嚥: {categories['swallow']})\")\n"
   ]
  },
  {
   "cell_type": "code",
   "execution_count": 3,
   "metadata": {},
   "outputs": [],
   "source": [
    "def load_audio(file_path, sr=16000):\n",
    "    \"\"\"\n",
    "    讀取音頻文件並返回音頻信號和採樣率。\n",
    "\n",
    "    參數:\n",
    "    - file_path: 音頻文件的路徑\n",
    "    - sr: 採樣率，默認為22050\n",
    "\n",
    "    返回:\n",
    "    - y: 音頻信號\n",
    "    - sr: 採樣率\n",
    "    \"\"\"\n",
    "    y, sr = librosa.load(file_path, sr=sr)\n",
    "    return y, sr\n"
   ]
  },
  {
   "cell_type": "code",
   "execution_count": 4,
   "metadata": {},
   "outputs": [],
   "source": [
    "def reduce_noise_signal(y, sr):\n",
    "    \"\"\"\n",
    "    使用noisereduce庫進行噪音抑制。\n",
    "\n",
    "    假設音頻的前0.5秒為背景噪音。\n",
    "\n",
    "    參數:\n",
    "    - y: 音頻信號\n",
    "    - sr: 採樣率\n",
    "\n",
    "    返回:\n",
    "    - y_reduced: 去噪後的音頻信號\n",
    "    \"\"\"\n",
    "    noise_sample = y[:int(0.5 * sr)]  # 假設前0.5秒為背景噪音\n",
    "    y_reduced = nr.reduce_noise(y=y, sr=sr, y_noise=noise_sample)\n",
    "    return y_reduced\n"
   ]
  },
  {
   "cell_type": "code",
   "execution_count": 5,
   "metadata": {},
   "outputs": [],
   "source": [
    "def split_audio(y, sr, segment_length, hop_length):\n",
    "    \"\"\"\n",
    "    將音頻信號分割成固定長度的片段。如果最後一個片段不足指定長度，則進行填充。\n",
    "\n",
    "    參數:\n",
    "    - y: 音頻信號\n",
    "    - sr: 採樣率\n",
    "    - segment_length: 每個片段的長度（秒）\n",
    "    - hop_length: 窗口跳步長度（秒）\n",
    "\n",
    "    返回:\n",
    "    - segments: 分割後的音頻片段列表\n",
    "    \"\"\"\n",
    "    segment_samples = int(segment_length * sr)\n",
    "    hop_samples = int(hop_length * sr)\n",
    "    segments = []\n",
    "    num_segments = 0\n",
    "\n",
    "    for start in range(0, len(y) - segment_samples + 1, hop_samples):\n",
    "        end = start + segment_samples\n",
    "        segments.append(y[start:end])\n",
    "        num_segments += 1\n",
    "\n",
    "    # 處理最後一個不足長度的片段\n",
    "    remaining_samples = len(y) - (num_segments * hop_samples)\n",
    "    if remaining_samples > 0 and remaining_samples < segment_samples:\n",
    "        last_segment = y[-segment_samples:]\n",
    "        padding = segment_samples - len(last_segment)\n",
    "        last_segment_padded = np.pad(last_segment, (0, padding), mode='constant')\n",
    "        segments.append(last_segment_padded)\n",
    "\n",
    "    return segments"
   ]
  },
  {
   "cell_type": "code",
   "execution_count": 6,
   "metadata": {},
   "outputs": [],
   "source": [
    "def extract_features(y, sr, n_mels=128, n_fft=2048, hop_length=512, fixed_length=130):\n",
    "    \"\"\"\n",
    "    從音頻信號中提取梅爾頻譜圖特徵，並確保每個特徵具有固定的時間步數。\n",
    "\n",
    "    參數:\n",
    "    - y: 音頻信號\n",
    "    - sr: 採樣率\n",
    "    - n_mels: 梅爾頻帶數量\n",
    "    - n_fft: 快速傅立葉變換窗口大小\n",
    "    - hop_length: 窗口跳步長度\n",
    "    - fixed_length: 固定的時間步數（帧數）\n",
    "\n",
    "    返回:\n",
    "    - mel_spec_db: 轉換為分貝的梅爾頻譜圖，形狀為 (n_mels, fixed_length)\n",
    "    \"\"\"\n",
    "    mel_spec = librosa.feature.melspectrogram(y=y, sr=sr, n_mels=n_mels,\n",
    "                                              n_fft=n_fft, hop_length=hop_length)\n",
    "    mel_spec_db = librosa.power_to_db(mel_spec, ref=np.max)\n",
    "\n",
    "    # 固定長度\n",
    "    mel_spec_db = librosa.util.fix_length(mel_spec_db, size=fixed_length, axis=1)\n",
    "\n",
    "    return mel_spec_db\n"
   ]
  },
  {
   "cell_type": "code",
   "execution_count": 7,
   "metadata": {},
   "outputs": [
    {
     "name": "stdout",
     "output_type": "stream",
     "text": [
      "總片段數量: 203\n",
      "每個類別的片段數量: {0: 135, 1: 68}\n"
     ]
    }
   ],
   "source": [
    "features = []\n",
    "labels_processed = []\n",
    "\n",
    "# 計數每個類別的片段數量\n",
    "segment_counts = defaultdict(int)\n",
    "\n",
    "# 定義固定的時間步數（根據您的設置調整）\n",
    "fixed_length = 130\n",
    "\n",
    "# 迭代處理每個音頻文件\n",
    "for file_path, label in zip(audio_files, labels):\n",
    "    # 讀取音頻\n",
    "    y, sr = load_audio(file_path)\n",
    "\n",
    "    # 去噪（可選）\n",
    "    y = reduce_noise_signal(y, sr)\n",
    "\n",
    "    # 分割音頻\n",
    "    segments = split_audio(y, sr, segment_length=1.0, hop_length=0.5)\n",
    "\n",
    "    # 如果分割後沒有片段，跳過該文件\n",
    "    if not segments:\n",
    "        continue\n",
    "\n",
    "    # 對每個片段提取特徵\n",
    "    for segment in segments:\n",
    "        mel_spec = extract_features(segment, sr, fixed_length=fixed_length)\n",
    "        mel_spec = mel_spec[..., np.newaxis]  # 添加channel維度\n",
    "        features.append(mel_spec)\n",
    "        labels_processed.append(label)\n",
    "        segment_counts[label] += 1\n",
    "\n",
    "print(f\"總片段數量: {len(features)}\")\n",
    "print(\"每個類別的片段數量:\", dict(segment_counts))"
   ]
  },
  {
   "cell_type": "code",
   "execution_count": 8,
   "metadata": {},
   "outputs": [
    {
     "name": "stdout",
     "output_type": "stream",
     "text": [
      "特徵形狀: (203, 128, 130, 1)\n",
      "標籤形狀: (203,)\n",
      "標準化後的特徵形狀: (203, 128, 130, 1)\n"
     ]
    }
   ],
   "source": [
    "# 將特徵和標籤轉換為NumPy數組\n",
    "X = np.array(features)\n",
    "y = np.array(labels_processed)\n",
    "\n",
    "print(f\"特徵形狀: {X.shape}\")\n",
    "print(f\"標籤形狀: {y.shape}\")\n",
    "\n",
    "# 將數值標準化到0-1之間\n",
    "X = X / np.max(X)\n",
    "\n",
    "print(f\"標準化後的特徵形狀: {X.shape}\")"
   ]
  },
  {
   "cell_type": "code",
   "execution_count": 9,
   "metadata": {},
   "outputs": [
    {
     "name": "stdout",
     "output_type": "stream",
     "text": [
      "訓練集大小: (162, 128, 130, 1)\n",
      "測試集大小: (41, 128, 130, 1)\n"
     ]
    }
   ],
   "source": [
    "from sklearn.model_selection import train_test_split\n",
    "\n",
    "# 分割訓練集和測試集\n",
    "try:\n",
    "    X_train, X_test, y_train, y_test = train_test_split(X, y, test_size=0.2, stratify=y, random_state=42)\n",
    "    print(f\"訓練集大小: {X_train.shape}\")\n",
    "    print(f\"測試集大小: {X_test.shape}\")\n",
    "except ValueError as e:\n",
    "    print(\"分層抽樣失敗，嘗試不使用 stratify\")\n",
    "    X_train, X_test, y_train, y_test = train_test_split(X, y, test_size=0.2, random_state=42)\n",
    "    print(f\"訓練集大小: {X_train.shape}\")\n",
    "    print(f\"測試集大小: {X_test.shape}\")\n"
   ]
  },
  {
   "cell_type": "code",
   "execution_count": 10,
   "metadata": {},
   "outputs": [
    {
     "name": "stdout",
     "output_type": "stream",
     "text": [
      "訓練集標籤形狀: (162, 2)\n",
      "測試集標籤形狀: (41, 2)\n"
     ]
    }
   ],
   "source": [
    "# 將標籤轉為類別\n",
    "y_train = to_categorical(y_train, num_classes=2)\n",
    "y_test = to_categorical(y_test, num_classes=2)\n",
    "\n",
    "print(f\"訓練集標籤形狀: {y_train.shape}\")\n",
    "print(f\"測試集標籤形狀: {y_test.shape}\")\n"
   ]
  },
  {
   "cell_type": "code",
   "execution_count": 11,
   "metadata": {},
   "outputs": [
    {
     "name": "stdout",
     "output_type": "stream",
     "text": [
      "類別權重: {0: 0.75, 1: 1.5}\n"
     ]
    }
   ],
   "source": [
    "# 計算類別權重\n",
    "y_train_labels = np.argmax(y_train, axis=1)\n",
    "class_weights = compute_class_weight('balanced', classes=np.unique(y_train_labels), y=y_train_labels)\n",
    "class_weights_dict = {i: weight for i, weight in enumerate(class_weights)}\n",
    "print(\"類別權重:\", class_weights_dict)\n"
   ]
  },
  {
   "cell_type": "code",
   "execution_count": 12,
   "metadata": {},
   "outputs": [
    {
     "name": "stdout",
     "output_type": "stream",
     "text": [
      "輸入形狀: (128, 130, 1)\n",
      "Model: \"sequential\"\n",
      "_________________________________________________________________\n",
      " Layer (type)                Output Shape              Param #   \n",
      "=================================================================\n",
      " conv2d (Conv2D)             (None, 128, 130, 32)      320       \n",
      "                                                                 \n",
      " batch_normalization (BatchN  (None, 128, 130, 32)     128       \n",
      " ormalization)                                                   \n",
      "                                                                 \n",
      " max_pooling2d (MaxPooling2D  (None, 64, 65, 32)       0         \n",
      " )                                                               \n",
      "                                                                 \n",
      " dropout (Dropout)           (None, 64, 65, 32)        0         \n",
      "                                                                 \n",
      " conv2d_1 (Conv2D)           (None, 64, 65, 64)        18496     \n",
      "                                                                 \n",
      " batch_normalization_1 (Batc  (None, 64, 65, 64)       256       \n",
      " hNormalization)                                                 \n",
      "                                                                 \n",
      " conv2d_2 (Conv2D)           (None, 64, 65, 64)        36928     \n",
      "                                                                 \n",
      " batch_normalization_2 (Batc  (None, 64, 65, 64)       256       \n",
      " hNormalization)                                                 \n",
      "                                                                 \n",
      " max_pooling2d_1 (MaxPooling  (None, 32, 32, 64)       0         \n",
      " 2D)                                                             \n",
      "                                                                 \n",
      " dropout_1 (Dropout)         (None, 32, 32, 64)        0         \n",
      "                                                                 \n",
      " conv2d_3 (Conv2D)           (None, 32, 32, 128)       73856     \n",
      "                                                                 \n",
      " batch_normalization_3 (Batc  (None, 32, 32, 128)      512       \n",
      " hNormalization)                                                 \n",
      "                                                                 \n",
      " conv2d_4 (Conv2D)           (None, 32, 32, 128)       147584    \n",
      "                                                                 \n",
      " batch_normalization_4 (Batc  (None, 32, 32, 128)      512       \n",
      " hNormalization)                                                 \n",
      "                                                                 \n",
      " max_pooling2d_2 (MaxPooling  (None, 16, 16, 128)      0         \n",
      " 2D)                                                             \n",
      "                                                                 \n",
      " dropout_2 (Dropout)         (None, 16, 16, 128)       0         \n",
      "                                                                 \n",
      " conv2d_5 (Conv2D)           (None, 16, 16, 256)       295168    \n",
      "                                                                 \n",
      " batch_normalization_5 (Batc  (None, 16, 16, 256)      1024      \n",
      " hNormalization)                                                 \n",
      "                                                                 \n",
      " conv2d_6 (Conv2D)           (None, 16, 16, 256)       590080    \n",
      "                                                                 \n",
      " batch_normalization_6 (Batc  (None, 16, 16, 256)      1024      \n",
      " hNormalization)                                                 \n",
      "                                                                 \n",
      " max_pooling2d_3 (MaxPooling  (None, 8, 8, 256)        0         \n",
      " 2D)                                                             \n",
      "                                                                 \n",
      " dropout_3 (Dropout)         (None, 8, 8, 256)         0         \n",
      "                                                                 \n",
      " flatten (Flatten)           (None, 16384)             0         \n",
      "                                                                 \n",
      " dense (Dense)               (None, 512)               8389120   \n",
      "                                                                 \n",
      " dropout_4 (Dropout)         (None, 512)               0         \n",
      "                                                                 \n",
      " dense_1 (Dense)             (None, 2)                 1026      \n",
      "                                                                 \n",
      "=================================================================\n",
      "Total params: 9,556,290\n",
      "Trainable params: 9,554,434\n",
      "Non-trainable params: 1,856\n",
      "_________________________________________________________________\n"
     ]
    }
   ],
   "source": [
    "from tensorflow.keras.models import Sequential\n",
    "from tensorflow.keras.layers import Conv2D, MaxPooling2D, BatchNormalization, Dropout, Flatten, Dense\n",
    "\n",
    "def build_deep_cnn(input_shape):\n",
    "    \"\"\"\n",
    "    建立更深的CNN模型架構。\n",
    "\n",
    "    參數:\n",
    "    - input_shape: 輸入數據的形狀，例如 (128, 130, 1)\n",
    "\n",
    "    返回:\n",
    "    - model: 建立好的Keras模型\n",
    "    \"\"\"\n",
    "    model = Sequential()\n",
    "    \n",
    "    # 第一個卷積塊\n",
    "    model.add(Conv2D(32, (3, 3), activation='relu', padding='same', input_shape=input_shape))\n",
    "    model.add(BatchNormalization())\n",
    "    model.add(MaxPooling2D((2, 2)))\n",
    "    model.add(Dropout(0.25))\n",
    "    \n",
    "    # 第二個卷積塊\n",
    "    model.add(Conv2D(64, (3, 3), activation='relu', padding='same'))\n",
    "    model.add(BatchNormalization())\n",
    "    model.add(Conv2D(64, (3, 3), activation='relu', padding='same'))\n",
    "    model.add(BatchNormalization())\n",
    "    model.add(MaxPooling2D((2, 2)))\n",
    "    model.add(Dropout(0.25))\n",
    "    \n",
    "    # 第三個卷積塊\n",
    "    model.add(Conv2D(128, (3, 3), activation='relu', padding='same'))\n",
    "    model.add(BatchNormalization())\n",
    "    model.add(Conv2D(128, (3, 3), activation='relu', padding='same'))\n",
    "    model.add(BatchNormalization())\n",
    "    model.add(MaxPooling2D((2, 2)))\n",
    "    model.add(Dropout(0.25))\n",
    "    \n",
    "    # 第四個卷積塊\n",
    "    model.add(Conv2D(256, (3, 3), activation='relu', padding='same'))\n",
    "    model.add(BatchNormalization())\n",
    "    model.add(Conv2D(256, (3, 3), activation='relu', padding='same'))\n",
    "    model.add(BatchNormalization())\n",
    "    model.add(MaxPooling2D((2, 2)))\n",
    "    model.add(Dropout(0.25))\n",
    "    \n",
    "    # 展平層\n",
    "    model.add(Flatten())\n",
    "    \n",
    "    # 全連接層\n",
    "    model.add(Dense(512, activation='relu'))\n",
    "    model.add(Dropout(0.5))\n",
    "    \n",
    "    # 輸出層\n",
    "    model.add(Dense(2, activation='softmax'))\n",
    "    \n",
    "    return model\n",
    "\n",
    "# 獲取輸入形狀\n",
    "input_shape = X_train.shape[1:]  # 假設形狀為 (128, 130, 1)\n",
    "print(\"輸入形狀:\", input_shape)\n",
    "\n",
    "# 建立更深的CNN模型\n",
    "model = build_deep_cnn(input_shape)\n",
    "model.compile(optimizer='adam', loss='categorical_crossentropy', metrics=['accuracy'])\n",
    "model.summary()\n"
   ]
  },
  {
   "cell_type": "code",
   "execution_count": 13,
   "metadata": {},
   "outputs": [
    {
     "name": "stdout",
     "output_type": "stream",
     "text": [
      "Epoch 1/30\n",
      "11/11 [==============================] - 3s 245ms/step - loss: 16.1538 - accuracy: 0.5617 - val_loss: 2.6167 - val_accuracy: 0.8537\n",
      "Epoch 2/30\n",
      "11/11 [==============================] - 3s 231ms/step - loss: 2.3152 - accuracy: 0.7654 - val_loss: 54.4023 - val_accuracy: 0.6585\n",
      "Epoch 3/30\n",
      "11/11 [==============================] - 3s 231ms/step - loss: 0.8052 - accuracy: 0.7963 - val_loss: 116.9875 - val_accuracy: 0.6585\n",
      "Epoch 4/30\n",
      "11/11 [==============================] - 3s 229ms/step - loss: 1.6139 - accuracy: 0.7840 - val_loss: 28.5078 - val_accuracy: 0.6585\n",
      "Epoch 5/30\n",
      "11/11 [==============================] - 3s 231ms/step - loss: 1.8683 - accuracy: 0.7593 - val_loss: 1.4451 - val_accuracy: 0.9024\n",
      "Epoch 6/30\n",
      "11/11 [==============================] - 3s 228ms/step - loss: 0.6850 - accuracy: 0.7531 - val_loss: 1.3991 - val_accuracy: 0.9024\n",
      "Epoch 7/30\n",
      "11/11 [==============================] - 2s 227ms/step - loss: 0.6957 - accuracy: 0.7901 - val_loss: 0.8928 - val_accuracy: 0.9024\n",
      "Epoch 8/30\n",
      "11/11 [==============================] - 3s 237ms/step - loss: 0.6217 - accuracy: 0.8333 - val_loss: 0.8553 - val_accuracy: 0.9024\n",
      "Epoch 9/30\n",
      "11/11 [==============================] - 3s 245ms/step - loss: 0.4560 - accuracy: 0.8519 - val_loss: 0.7106 - val_accuracy: 0.9024\n",
      "Epoch 10/30\n",
      "11/11 [==============================] - 3s 230ms/step - loss: 0.3156 - accuracy: 0.8333 - val_loss: 0.4105 - val_accuracy: 0.9024\n",
      "Epoch 11/30\n",
      "11/11 [==============================] - 2s 223ms/step - loss: 0.3480 - accuracy: 0.8519 - val_loss: 0.5932 - val_accuracy: 0.9024\n",
      "Epoch 12/30\n",
      "11/11 [==============================] - 2s 223ms/step - loss: 0.6557 - accuracy: 0.8580 - val_loss: 0.6321 - val_accuracy: 0.9024\n",
      "Epoch 13/30\n",
      "11/11 [==============================] - 2s 225ms/step - loss: 0.4107 - accuracy: 0.8580 - val_loss: 0.4736 - val_accuracy: 0.9024\n",
      "Epoch 14/30\n",
      "11/11 [==============================] - 2s 223ms/step - loss: 0.6644 - accuracy: 0.8148 - val_loss: 0.3608 - val_accuracy: 0.8780\n",
      "Epoch 15/30\n",
      "11/11 [==============================] - 2s 225ms/step - loss: 0.5212 - accuracy: 0.8395 - val_loss: 0.2167 - val_accuracy: 0.9268\n",
      "Epoch 16/30\n",
      "11/11 [==============================] - 2s 223ms/step - loss: 0.3170 - accuracy: 0.8519 - val_loss: 0.2039 - val_accuracy: 0.9268\n",
      "Epoch 17/30\n",
      "11/11 [==============================] - 2s 225ms/step - loss: 0.2223 - accuracy: 0.9012 - val_loss: 0.3516 - val_accuracy: 0.8537\n",
      "Epoch 18/30\n",
      "11/11 [==============================] - 2s 225ms/step - loss: 0.1891 - accuracy: 0.9136 - val_loss: 0.2546 - val_accuracy: 0.9268\n",
      "Epoch 19/30\n",
      "11/11 [==============================] - 2s 225ms/step - loss: 0.3864 - accuracy: 0.9136 - val_loss: 0.2068 - val_accuracy: 0.9268\n",
      "Epoch 20/30\n",
      "11/11 [==============================] - 2s 224ms/step - loss: 0.4955 - accuracy: 0.8827 - val_loss: 0.3087 - val_accuracy: 0.8293\n",
      "Epoch 21/30\n",
      "11/11 [==============================] - 2s 227ms/step - loss: 0.5951 - accuracy: 0.8827 - val_loss: 0.3554 - val_accuracy: 0.7805\n",
      "Epoch 22/30\n",
      "11/11 [==============================] - 2s 222ms/step - loss: 0.5964 - accuracy: 0.9321 - val_loss: 0.2795 - val_accuracy: 0.9268\n",
      "Epoch 23/30\n",
      "11/11 [==============================] - 3s 229ms/step - loss: 0.3695 - accuracy: 0.8519 - val_loss: 0.3918 - val_accuracy: 0.9268\n",
      "Epoch 24/30\n",
      "11/11 [==============================] - 3s 232ms/step - loss: 0.3984 - accuracy: 0.8889 - val_loss: 0.2739 - val_accuracy: 0.9268\n",
      "Epoch 25/30\n",
      "11/11 [==============================] - 3s 234ms/step - loss: 0.4120 - accuracy: 0.9198 - val_loss: 2.3056 - val_accuracy: 0.9268\n",
      "Epoch 26/30\n",
      "11/11 [==============================] - 3s 229ms/step - loss: 0.6855 - accuracy: 0.8642 - val_loss: 2.1077 - val_accuracy: 0.7805\n",
      "Epoch 27/30\n",
      "11/11 [==============================] - 2s 223ms/step - loss: 0.3331 - accuracy: 0.8889 - val_loss: 0.7099 - val_accuracy: 0.9024\n",
      "Epoch 28/30\n",
      "11/11 [==============================] - 2s 223ms/step - loss: 0.3210 - accuracy: 0.8951 - val_loss: 0.9012 - val_accuracy: 0.9024\n",
      "Epoch 29/30\n",
      "11/11 [==============================] - 2s 225ms/step - loss: 0.2718 - accuracy: 0.9136 - val_loss: 1.5047 - val_accuracy: 0.9512\n",
      "Epoch 30/30\n",
      "11/11 [==============================] - 2s 225ms/step - loss: 0.2074 - accuracy: 0.9321 - val_loss: 0.7811 - val_accuracy: 0.9756\n"
     ]
    },
    {
     "name": "stderr",
     "output_type": "stream",
     "text": [
      "C:\\Users\\bymin\\AppData\\Local\\Temp\\ipykernel_25760\\3974939055.py:26: UserWarning: Glyph 25613 (\\N{CJK UNIFIED IDEOGRAPH-640D}) missing from font(s) DejaVu Sans.\n",
      "  plt.tight_layout()\n",
      "C:\\Users\\bymin\\AppData\\Local\\Temp\\ipykernel_25760\\3974939055.py:26: UserWarning: Glyph 22833 (\\N{CJK UNIFIED IDEOGRAPH-5931}) missing from font(s) DejaVu Sans.\n",
      "  plt.tight_layout()\n",
      "C:\\Users\\bymin\\AppData\\Local\\Temp\\ipykernel_25760\\3974939055.py:26: UserWarning: Glyph 26354 (\\N{CJK UNIFIED IDEOGRAPH-66F2}) missing from font(s) DejaVu Sans.\n",
      "  plt.tight_layout()\n",
      "C:\\Users\\bymin\\AppData\\Local\\Temp\\ipykernel_25760\\3974939055.py:26: UserWarning: Glyph 32218 (\\N{CJK UNIFIED IDEOGRAPH-7DDA}) missing from font(s) DejaVu Sans.\n",
      "  plt.tight_layout()\n",
      "c:\\Users\\bymin\\anaconda3\\envs\\swallow\\lib\\site-packages\\IPython\\core\\pylabtools.py:152: UserWarning: Glyph 25613 (\\N{CJK UNIFIED IDEOGRAPH-640D}) missing from font(s) DejaVu Sans.\n",
      "  fig.canvas.print_figure(bytes_io, **kw)\n",
      "c:\\Users\\bymin\\anaconda3\\envs\\swallow\\lib\\site-packages\\IPython\\core\\pylabtools.py:152: UserWarning: Glyph 22833 (\\N{CJK UNIFIED IDEOGRAPH-5931}) missing from font(s) DejaVu Sans.\n",
      "  fig.canvas.print_figure(bytes_io, **kw)\n",
      "c:\\Users\\bymin\\anaconda3\\envs\\swallow\\lib\\site-packages\\IPython\\core\\pylabtools.py:152: UserWarning: Glyph 26354 (\\N{CJK UNIFIED IDEOGRAPH-66F2}) missing from font(s) DejaVu Sans.\n",
      "  fig.canvas.print_figure(bytes_io, **kw)\n",
      "c:\\Users\\bymin\\anaconda3\\envs\\swallow\\lib\\site-packages\\IPython\\core\\pylabtools.py:152: UserWarning: Glyph 32218 (\\N{CJK UNIFIED IDEOGRAPH-7DDA}) missing from font(s) DejaVu Sans.\n",
      "  fig.canvas.print_figure(bytes_io, **kw)\n"
     ]
    },
    {
     "data": {
      "image/png": "[encoded data removed]",
      "text/plain": [
       "<Figure size 1200x400 with 2 Axes>"
      ]
     },
     "metadata": {},
     "output_type": "display_data"
    }
   ],
   "source": [
    "# 訓練模型，並使用類別權重\n",
    "history = model.fit(X_train, y_train, epochs=30, batch_size=16,\n",
    "                    validation_data=(X_test, y_test),\n",
    "                    class_weight=class_weights_dict)\n",
    "# 繪製訓練過程\n",
    "plt.figure(figsize=(12, 4))\n",
    "\n",
    "# 繪製損失\n",
    "plt.subplot(1, 2, 1)\n",
    "plt.plot(history.history['loss'], label='Train_Loss')\n",
    "plt.plot(history.history['val_loss'], label='Val_Loss')\n",
    "plt.title('損失曲線')\n",
    "plt.xlabel('Epoch')\n",
    "plt.ylabel('Loss')\n",
    "plt.legend()\n",
    "\n",
    "# 繪製準確率\n",
    "plt.subplot(1, 2, 2)\n",
    "plt.plot(history.history['accuracy'], label='Train_Accuracy')\n",
    "plt.plot(history.history['val_accuracy'], label='Val_Accuracy')\n",
    "plt.title('Accuracy_Curve')\n",
    "plt.xlabel('Epoch')\n",
    "plt.ylabel('Accuracy')\n",
    "plt.legend()\n",
    "\n",
    "plt.tight_layout()\n",
    "plt.show()\n",
    "\n"
   ]
  },
  {
   "cell_type": "code",
   "execution_count": 14,
   "metadata": {},
   "outputs": [
    {
     "name": "stdout",
     "output_type": "stream",
     "text": [
      "2/2 [==============================] - 0s 35ms/step - loss: 0.7811 - accuracy: 0.9756\n",
      "測試集損失: 0.7811\n",
      "測試集準確率: 97.56%\n"
     ]
    }
   ],
   "source": [
    "# 評估模型在測試集上的表現\n",
    "loss, accuracy = model.evaluate(X_test, y_test)\n",
    "print(f\"測試集損失: {loss:.4f}\")\n",
    "print(f\"測試集準確率: {accuracy * 100:.2f}%\")\n"
   ]
  },
  {
   "cell_type": "code",
   "execution_count": 15,
   "metadata": {},
   "outputs": [
    {
     "name": "stdout",
     "output_type": "stream",
     "text": [
      "2/2 [==============================] - 0s 38ms/step\n",
      "ConfusionMatrix:\n",
      "[[26  1]\n",
      " [ 0 14]]\n",
      "\n",
      "分類報告:\n",
      "              precision    recall  f1-score   support\n",
      "\n",
      " Non Swallow       1.00      0.96      0.98        27\n",
      "     Swallow       0.93      1.00      0.97        14\n",
      "\n",
      "    accuracy                           0.98        41\n",
      "   macro avg       0.97      0.98      0.97        41\n",
      "weighted avg       0.98      0.98      0.98        41\n",
      "\n"
     ]
    },
    {
     "data": {
      "image/png": "[encoded data removed]",
      "text/plain": [
       "<Figure size 600x500 with 2 Axes>"
      ]
     },
     "metadata": {},
     "output_type": "display_data"
    }
   ],
   "source": [
    "# 預測測試集\n",
    "y_pred = model.predict(X_test)\n",
    "y_pred_classes = np.argmax(y_pred, axis=1)\n",
    "y_true = np.argmax(y_test, axis=1)\n",
    "\n",
    "# 混淆矩陣\n",
    "cm = confusion_matrix(y_true, y_pred_classes)\n",
    "print(\"ConfusionMatrix:\")\n",
    "print(cm)\n",
    "\n",
    "# 分類報告\n",
    "print(\"\\n分類報告:\")\n",
    "print(classification_report(y_true, y_pred_classes, target_names=['Non Swallow', 'Swallow']))\n",
    "\n",
    "plt.figure(figsize=(6,5))\n",
    "sns.heatmap(cm, annot=True, fmt='d', cmap='Blues',\n",
    "            xticklabels=['Non Swallow', 'Swallow'],\n",
    "            yticklabels=['Non Swallow', 'Swallow'])\n",
    "plt.ylabel('Real')\n",
    "plt.xlabel('Predict')\n",
    "plt.title('ConfusionMatrix')\n",
    "plt.show()\n",
    "\n"
   ]
  },
  {
   "cell_type": "code",
   "execution_count": 16,
   "metadata": {},
   "outputs": [],
   "source": [
    "def sliding_window_predict(y, sr, model, window_length=1.0, hop_length=0.5, threshold=0.5, fixed_length=130):\n",
    "    \"\"\"\n",
    "    使用滑動窗口方法對整個音頻進行預測，並計數吞嚥聲音的數量。\n",
    "\n",
    "    參數:\n",
    "    - y: 音頻信號\n",
    "    - sr: 採樣率\n",
    "    - model: 已訓練的CNN模型\n",
    "    - window_length: 窗口長度（秒）\n",
    "    - hop_length: 窗口跳步長度（秒）\n",
    "    - threshold: 判斷為吞嚥聲音的概率閾值\n",
    "    - fixed_length: 固定的時間步數（帧數）\n",
    "\n",
    "    返回:\n",
    "    - count: 吞嚥聲音的數量\n",
    "    \"\"\"\n",
    "    window_samples = int(window_length * sr)\n",
    "    hop_samples = int(hop_length * sr)\n",
    "    segments = []\n",
    "    predictions = []\n",
    "\n",
    "    for start in range(0, len(y) - window_samples + 1, hop_samples):\n",
    "        end = start + window_samples\n",
    "        window = y[start:end]\n",
    "        mel_spec = extract_features(window, sr, fixed_length=fixed_length)\n",
    "        mel_spec = mel_spec[..., np.newaxis]  # 添加channel維度\n",
    "        mel_spec = mel_spec / np.max(mel_spec)  # 標準化\n",
    "        mel_spec = mel_spec.reshape(1, mel_spec.shape[0], mel_spec.shape[1], mel_spec.shape[2])\n",
    "        pred = model.predict(mel_spec, verbose=0)\n",
    "        predictions.append(pred[0][1])  # 吞嚥聲音的概率\n",
    "\n",
    "    # 根據閾值判斷吞嚥事件\n",
    "    swallowing_events = []\n",
    "    for i, prob in enumerate(predictions):\n",
    "        if prob > threshold:\n",
    "            swallowing_events.append(i)\n",
    "\n",
    "    # 去除重疊的事件\n",
    "    min_distance = int(window_length / hop_length * 1)  # 最小間隔，根據實際情況調整\n",
    "    final_events = []\n",
    "    last_event = -min_distance\n",
    "    for event in swallowing_events:\n",
    "        if event - last_event > min_distance:\n",
    "            final_events.append(event)\n",
    "            last_event = event\n",
    "\n",
    "    return len(final_events)\n"
   ]
  },
  {
   "cell_type": "code",
   "execution_count": 17,
   "metadata": {},
   "outputs": [
    {
     "name": "stderr",
     "output_type": "stream",
     "text": [
      "C:\\Users\\bymin\\AppData\\Local\\Temp\\ipykernel_25760\\4081547629.py:27: RuntimeWarning: divide by zero encountered in divide\n",
      "  mel_spec = mel_spec / np.max(mel_spec)  # 標準化\n",
      "C:\\Users\\bymin\\AppData\\Local\\Temp\\ipykernel_25760\\4081547629.py:27: RuntimeWarning: invalid value encountered in divide\n",
      "  mel_spec = mel_spec / np.max(mel_spec)  # 標準化\n"
     ]
    },
    {
     "name": "stdout",
     "output_type": "stream",
     "text": [
      "吞嚥聲音數量: 1\n"
     ]
    }
   ],
   "source": [
    "# 定義新的音頻文件路徑\n",
    "new_audio_path = '音檔\\測試RSST 2.wav'  # 替換為您的音頻文件路徑\n",
    "\n",
    "# 檢查文件是否存在\n",
    "if not os.path.exists(new_audio_path):\n",
    "    print(f\"音頻文件 {new_audio_path} 不存在。請確認路徑正確。\")\n",
    "else:\n",
    "    # 讀取新的音頻文件\n",
    "    y_new, sr_new = load_audio(new_audio_path)\n",
    "\n",
    "    # 可選：去噪\n",
    "    y_new = reduce_noise_signal(y_new, sr_new)\n",
    "\n",
    "    # 使用滑動窗口方法進行預測和計數\n",
    "    count = sliding_window_predict(y_new, sr_new, model, window_length=1.0, hop_length=0.5, threshold=0.4, fixed_length=130)\n",
    "    print(f\"吞嚥聲音數量: {count}\")\n",
    "\n"
   ]
  }
 ],
 "metadata": {
  "kernelspec": {
   "display_name": "swallow",
   "language": "python",
   "name": "python3"
  },
  "language_info": {
   "codemirror_mode": {
    "name": "ipython",
    "version": 3
   },
   "file_extension": ".py",
   "mimetype": "text/x-python",
   "name": "python",
   "nbconvert_exporter": "python",
   "pygments_lexer": "ipython3",
   "version": "3.9.20"
  }
 },
 "nbformat": 4,
 "nbformat_minor": 2
}
